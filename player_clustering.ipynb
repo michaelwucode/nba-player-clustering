{
 "cells": [
  {
   "cell_type": "markdown",
   "id": "c1799eb5",
   "metadata": {},
   "source": [
    "\"NBA Player Clustering\" - Michael Wu"
   ]
  },
  {
   "cell_type": "markdown",
   "id": "e45b8b9b",
   "metadata": {},
   "source": []
  },
  {
   "cell_type": "markdown",
   "id": "f5e9370b",
   "metadata": {},
   "source": [
    "## Introduction\n",
    "\n",
    "Throughout the history of the NBA and basketball, there have been five positions: pg, sg, sf, pf, and center. A lot has changed during the past few years. Players are adopting new and different styles of plays, transcending their predefined roles. For example, centers, who traditionally spend most of their time in the paint, protecting the rim, and dunking on people, are now making plays away from the basket and moving towards mid range shots and even three-pointers. The dynamic evolution of basketball requires a more accurate and robust categorization of players. This may help teams better understand their lineups, and know which type of players they are missing or have an overabundance of. Knowledge like this can help teams make more informed decisions in building a strong team. \n",
    "\n",
    "## How are we going to do it?\n",
    "\n",
    "In this analysis, we are going to use the K-means clustering algorithm to categorize NBA players into distinct groups based on their playstyles and on-court tendencies. K-means is an unsupervised machine learning technique that partitions data points into clusters, where each cluster represents a group of players with similar characteristics.\n",
    "\n",
    "We begin by selecting a predefined number of clusters (K). The algorithm then iteratively assigns each player to the cluster whose centroid (representative point) is closest to their statistical profile. This proximity is determined using a distance metric, often Euclidean distance. The centroids are re-calculated based on the players assigned to each cluster in each iteration, optimizing cluster separation. The process continues until convergence is achieved.\n",
    "\n",
    "K-means provides a data-driven approach to player categorization, allowing us to uncover patterns in player performance beyond traditional positional boundaries. By identifying inherent similarities and differences among players, we aim to reveal meaningful insights into the evolving landscape of NBA basketball.\n",
    "\n",
    "\n",
    "## Features\n",
    "\n",
    "- Points\n",
    "- Assists\n",
    "- Rebounds\n",
    "- Steals\n",
    "- Blocks\n",
    "- % of 2-point goals assisted\n",
    "- % of 3-point goals assisted\n",
    "- % of goals made close to the basket (denoted as layup %)\n",
    "- % of goals made as mid-range shots\n",
    "- % of goals made as  three-pointers\n",
    "\n",
    "$*$ all statistics are in per 36 mins of play to adjust for playing time differences\n",
    "Above are the features which we will use in K-means clustering. Each statistic provides vital insights into the player's unique style and role on the court. For instance, a player with high rebound and block numbers may be classified as a dominant big man. Conversely, a player with a lower points-to-assists ratio may typify a pass-first point guard, prioritizing setting up teammates over scoring. Another player with high three-point field goal attempts, steals, and blocks could fit the profile of a 'three-and-D' player, renowned for their perimeter shooting and defensive contributions. Moreover, there may be combinations of stat lines that reveal entirely novel player archetypes, ones yet to be categorized or named.\n",
    "\n",
    "## Data Processing \n",
    "\n",
    "In this analysis, we are only going to use players who have played more than 25 games and at least 12 minutes a game, because it is hard to determine the playstyle of an individual when they barely play or when they only play “garbage” minutes.\n",
    "\n",
    "For the statistic, % of goals that are three-pointers, a number of plays are missing this stat because they have never shot a three-pointer throughtout the season. In our case, they are all centers. We replaced the NA values for those players with the median, which is 1. \n",
    "\n",
    "Players who played on multiple teams during the season, have multiple rows. One represents their average stats across teams, and the others detail team-specific stats. We are going to use the former, since a player’s style of play usually does not change drastically when they play on different teams. \n",
    "\n",
    "All features are scaled or standardized to have a mean of 0 and 1. Scaling does not change the fundamental information contained in the data, or the relationship between data points. It ensures that variables with larger units are not given higher importance solely due to their measurement scales.\n"
   ]
  },
  {
   "cell_type": "code",
   "execution_count": 15,
   "id": "1fd32cd4",
   "metadata": {},
   "outputs": [
    {
     "name": "stderr",
     "output_type": "stream",
     "text": [
      "Warning message:\n",
      "\"dependencies 'FactoMineR', 'MASS', 'pbkrtest', 'lattice' are not available\"also installing the dependencies 'pillar', 'tibble', 'glue', 'lme4', 'cli', 'dplyr', 'purrr', 'stringr', 'tidyselect', 'broom', 'car', 'gtable', 'lifecycle', 'rlang', 'scales', 'vctrs', 'viridis', 'ggrepel', 'ggsci', 'tidyr', 'ggsignif', 'rstatix', 'ggplot2', 'dendextend', 'ggpubr'\n",
      "\n"
     ]
    },
    {
     "name": "stdout",
     "output_type": "stream",
     "text": [
      "\n",
      "  There are binary versions available but the source versions are later:\n",
      "           binary source needs_compilation\n",
      "pillar      1.6.0  1.9.0             FALSE\n",
      "tibble      3.1.1  3.2.1              TRUE\n",
      "glue        1.4.2  1.6.2              TRUE\n",
      "lme4       1.1-26 1.1-34              TRUE\n",
      "cli         2.5.0  3.6.1              TRUE\n",
      "dplyr       1.0.6  1.1.3              TRUE\n",
      "purrr       0.3.4  1.0.2              TRUE\n",
      "stringr     1.4.0  1.5.0             FALSE\n",
      "tidyselect  1.1.1  1.2.0             FALSE\n",
      "broom       0.7.6  1.0.5             FALSE\n",
      "car        3.0-10  3.1-2             FALSE\n",
      "gtable      0.3.0  0.3.4             FALSE\n",
      "lifecycle   1.0.0  1.0.3             FALSE\n",
      "rlang      0.4.11  1.1.1              TRUE\n",
      "scales      1.1.1  1.2.1             FALSE\n",
      "vctrs       0.3.8  0.6.4              TRUE\n",
      "viridis     0.6.1  0.6.4             FALSE\n",
      "ggrepel     0.9.1  0.9.4              TRUE\n",
      "ggsci         2.9  3.0.0             FALSE\n",
      "tidyr       1.1.3  1.3.0              TRUE\n",
      "ggsignif    0.6.1  0.6.4             FALSE\n",
      "rstatix     0.7.0  0.7.2             FALSE\n",
      "ggplot2     3.3.3  3.4.4             FALSE\n",
      "dendextend 1.15.1 1.17.1             FALSE\n",
      "ggpubr      0.4.0  0.6.0             FALSE\n",
      "\n",
      "  Binaries will be installed\n",
      "package 'tibble' successfully unpacked and MD5 sums checked\n",
      "package 'glue' successfully unpacked and MD5 sums checked\n"
     ]
    },
    {
     "name": "stderr",
     "output_type": "stream",
     "text": [
      "Warning message:\n",
      "\"cannot remove prior installation of package 'glue'\"Warning message in file.copy(savedcopy, lib, recursive = TRUE):\n",
      "\"problem copying C:\\Users\\micha\\anaconda3\\Lib\\R\\library\\00LOCK\\glue\\libs\\x64\\glue.dll to C:\\Users\\micha\\anaconda3\\Lib\\R\\library\\glue\\libs\\x64\\glue.dll: Permission denied\"Warning message:\n",
      "\"restored 'glue'\""
     ]
    },
    {
     "name": "stdout",
     "output_type": "stream",
     "text": [
      "package 'lme4' successfully unpacked and MD5 sums checked\n",
      "package 'cli' successfully unpacked and MD5 sums checked\n",
      "package 'dplyr' successfully unpacked and MD5 sums checked\n",
      "package 'purrr' successfully unpacked and MD5 sums checked\n",
      "package 'rlang' successfully unpacked and MD5 sums checked\n"
     ]
    },
    {
     "name": "stderr",
     "output_type": "stream",
     "text": [
      "Warning message:\n",
      "\"cannot remove prior installation of package 'rlang'\"Warning message in file.copy(savedcopy, lib, recursive = TRUE):\n",
      "\"problem copying C:\\Users\\micha\\anaconda3\\Lib\\R\\library\\00LOCK\\rlang\\libs\\x64\\rlang.dll to C:\\Users\\micha\\anaconda3\\Lib\\R\\library\\rlang\\libs\\x64\\rlang.dll: Permission denied\"Warning message:\n",
      "\"restored 'rlang'\""
     ]
    },
    {
     "name": "stdout",
     "output_type": "stream",
     "text": [
      "package 'vctrs' successfully unpacked and MD5 sums checked\n"
     ]
    },
    {
     "name": "stderr",
     "output_type": "stream",
     "text": [
      "Warning message:\n",
      "\"cannot remove prior installation of package 'vctrs'\"Warning message in file.copy(savedcopy, lib, recursive = TRUE):\n",
      "\"problem copying C:\\Users\\micha\\anaconda3\\Lib\\R\\library\\00LOCK\\vctrs\\libs\\x64\\vctrs.dll to C:\\Users\\micha\\anaconda3\\Lib\\R\\library\\vctrs\\libs\\x64\\vctrs.dll: Permission denied\"Warning message:\n",
      "\"restored 'vctrs'\""
     ]
    },
    {
     "name": "stdout",
     "output_type": "stream",
     "text": [
      "package 'ggrepel' successfully unpacked and MD5 sums checked\n",
      "package 'tidyr' successfully unpacked and MD5 sums checked\n",
      "package 'factoextra' successfully unpacked and MD5 sums checked\n",
      "\n",
      "The downloaded binary packages are in\n",
      "\tC:\\Users\\micha\\AppData\\Local\\Temp\\RtmpArhAHh\\downloaded_packages\n"
     ]
    },
    {
     "name": "stderr",
     "output_type": "stream",
     "text": [
      "installing the source packages 'pillar', 'stringr', 'tidyselect', 'broom', 'car', 'gtable', 'lifecycle', 'scales', 'viridis', 'ggsci', 'ggsignif', 'rstatix', 'ggplot2', 'dendextend', 'ggpubr'\n",
      "\n",
      "Warning message in install.packages(\"factoextra\", repos = \"http://cran.us.r-project.org\"):\n",
      "\"installation of package 'lifecycle' had non-zero exit status\"Warning message in install.packages(\"factoextra\", repos = \"http://cran.us.r-project.org\"):\n",
      "\"installation of package 'pillar' had non-zero exit status\"Warning message in install.packages(\"factoextra\", repos = \"http://cran.us.r-project.org\"):\n",
      "\"installation of package 'stringr' had non-zero exit status\"Warning message in install.packages(\"factoextra\", repos = \"http://cran.us.r-project.org\"):\n",
      "\"installation of package 'tidyselect' had non-zero exit status\"Warning message in install.packages(\"factoextra\", repos = \"http://cran.us.r-project.org\"):\n",
      "\"installation of package 'gtable' had non-zero exit status\"Warning message in install.packages(\"factoextra\", repos = \"http://cran.us.r-project.org\"):\n",
      "\"installation of package 'scales' had non-zero exit status\"Warning message in install.packages(\"factoextra\", repos = \"http://cran.us.r-project.org\"):\n",
      "\"installation of package 'broom' had non-zero exit status\"Warning message in install.packages(\"factoextra\", repos = \"http://cran.us.r-project.org\"):\n",
      "\"installation of package 'car' had non-zero exit status\"Warning message in install.packages(\"factoextra\", repos = \"http://cran.us.r-project.org\"):\n",
      "\"installation of package 'ggplot2' had non-zero exit status\"Warning message in install.packages(\"factoextra\", repos = \"http://cran.us.r-project.org\"):\n",
      "\"installation of package 'viridis' had non-zero exit status\"Warning message in install.packages(\"factoextra\", repos = \"http://cran.us.r-project.org\"):\n",
      "\"installation of package 'ggsci' had non-zero exit status\"Warning message in install.packages(\"factoextra\", repos = \"http://cran.us.r-project.org\"):\n",
      "\"installation of package 'ggsignif' had non-zero exit status\"Warning message in install.packages(\"factoextra\", repos = \"http://cran.us.r-project.org\"):\n",
      "\"installation of package 'rstatix' had non-zero exit status\"Warning message in install.packages(\"factoextra\", repos = \"http://cran.us.r-project.org\"):\n",
      "\"installation of package 'dendextend' had non-zero exit status\"Warning message in install.packages(\"factoextra\", repos = \"http://cran.us.r-project.org\"):\n",
      "\"installation of package 'ggpubr' had non-zero exit status\"Warning message:\n",
      "\"dependencies 'MASS', 'pbkrtest', 'lattice' are not available\"also installing the dependencies 'cli', 'lifecycle', 'rlang', 'lme4', 'scales'\n",
      "\n"
     ]
    },
    {
     "name": "stdout",
     "output_type": "stream",
     "text": [
      "\n",
      "  There are binary versions available but the source versions are later:\n",
      "          binary source needs_compilation\n",
      "cli        2.5.0  3.6.1              TRUE\n",
      "lifecycle  1.0.0  1.0.3             FALSE\n",
      "rlang     0.4.11  1.1.1              TRUE\n",
      "lme4      1.1-26 1.1-34              TRUE\n",
      "scales     1.1.1  1.2.1             FALSE\n",
      "car       3.0-10  3.1-2             FALSE\n",
      "\n",
      "  Binaries will be installed\n",
      "package 'cli' successfully unpacked and MD5 sums checked\n",
      "package 'rlang' successfully unpacked and MD5 sums checked\n"
     ]
    },
    {
     "name": "stderr",
     "output_type": "stream",
     "text": [
      "Warning message:\n",
      "\"cannot remove prior installation of package 'rlang'\"Warning message in file.copy(savedcopy, lib, recursive = TRUE):\n",
      "\"problem copying C:\\Users\\micha\\anaconda3\\Lib\\R\\library\\00LOCK\\rlang\\libs\\x64\\rlang.dll to C:\\Users\\micha\\anaconda3\\Lib\\R\\library\\rlang\\libs\\x64\\rlang.dll: Permission denied\"Warning message:\n",
      "\"restored 'rlang'\""
     ]
    },
    {
     "name": "stdout",
     "output_type": "stream",
     "text": [
      "package 'lme4' successfully unpacked and MD5 sums checked\n",
      "\n",
      "The downloaded binary packages are in\n",
      "\tC:\\Users\\micha\\AppData\\Local\\Temp\\RtmpArhAHh\\downloaded_packages\n"
     ]
    },
    {
     "name": "stderr",
     "output_type": "stream",
     "text": [
      "installing the source packages 'lifecycle', 'scales', 'car'\n",
      "\n",
      "Warning message in install.packages(\"car\", repos = \"http://cran.us.r-project.org\"):\n",
      "\"installation of package 'lifecycle' had non-zero exit status\"Warning message in install.packages(\"car\", repos = \"http://cran.us.r-project.org\"):\n",
      "\"installation of package 'scales' had non-zero exit status\"Warning message in install.packages(\"car\", repos = \"http://cran.us.r-project.org\"):\n",
      "\"installation of package 'car' had non-zero exit status\"Warning message:\n",
      "\"dependency 'MASS' is not available\"also installing the dependencies 'processx', 'xfun', 'bslib', 'fontawesome', 'htmltools', 'tinytex', 'lifecycle', 'tidyselect', 'vctrs', 'gtable', 'scales', 'gargle', 'timechange', 'systemfonts', 'vroom', 'callr', 'knitr', 'rmarkdown', 'glue', 'broom', 'conflicted', 'cli', 'dbplyr', 'dplyr', 'dtplyr', 'forcats', 'ggplot2', 'googledrive', 'googlesheets4', 'haven', 'hms', 'jsonlite', 'lubridate', 'magrittr', 'modelr', 'pillar', 'purrr', 'ragg', 'readr', 'readxl', 'reprex', 'rlang', 'rvest', 'stringr', 'tibble', 'tidyr', 'xml2'\n",
      "\n"
     ]
    },
    {
     "name": "stdout",
     "output_type": "stream",
     "text": [
      "\n",
      "  There are binary versions available but the source versions are later:\n",
      "               binary  source needs_compilation\n",
      "processx        3.5.2   3.8.2              TRUE\n",
      "xfun             0.22    0.40              TRUE\n",
      "bslib           0.2.4   0.5.1             FALSE\n",
      "fontawesome     0.2.1   0.5.2             FALSE\n",
      "htmltools     0.5.1.1 0.5.6.1              TRUE\n",
      "tinytex          0.31    0.48             FALSE\n",
      "lifecycle       1.0.0   1.0.3             FALSE\n",
      "tidyselect      1.1.1   1.2.0             FALSE\n",
      "vctrs           0.3.8   0.6.4              TRUE\n",
      "gtable          0.3.0   0.3.4             FALSE\n",
      "scales          1.1.1   1.2.1             FALSE\n",
      "gargle          1.1.0   1.5.2             FALSE\n",
      "timechange      0.0.2   0.2.0              TRUE\n",
      "systemfonts     1.0.2   1.0.5              TRUE\n",
      "vroom           1.4.0   1.6.4              TRUE\n",
      "callr           3.7.0   3.7.3             FALSE\n",
      "knitr            1.33    1.44             FALSE\n",
      "rmarkdown         2.8    2.25             FALSE\n",
      "glue            1.4.2   1.6.2              TRUE\n",
      "broom           0.7.6   1.0.5             FALSE\n",
      "conflicted      1.0.4   1.2.0             FALSE\n",
      "cli             2.5.0   3.6.1              TRUE\n",
      "dbplyr          2.1.1   2.3.4             FALSE\n",
      "dplyr           1.0.6   1.1.3              TRUE\n",
      "dtplyr          1.1.0   1.3.1             FALSE\n",
      "forcats         0.5.1   1.0.0             FALSE\n",
      "ggplot2         3.3.3   3.4.4             FALSE\n",
      "googledrive     1.0.1   2.1.1             FALSE\n",
      "googlesheets4   0.3.0   1.1.1             FALSE\n",
      "haven           2.4.1   2.5.3              TRUE\n",
      "hms             1.0.0   1.1.3             FALSE\n",
      "jsonlite        1.7.2   1.8.7              TRUE\n",
      "lubridate      1.7.10   1.9.3              TRUE\n",
      "magrittr        2.0.1   2.0.3              TRUE\n",
      "modelr          0.1.8  0.1.11             FALSE\n",
      "pillar          1.6.0   1.9.0             FALSE\n",
      "purrr           0.3.4   1.0.2              TRUE\n",
      "ragg            1.1.2   1.2.6              TRUE\n",
      "readr           1.4.0   2.1.4              TRUE\n",
      "readxl          1.3.1   1.4.3              TRUE\n",
      "reprex          2.0.0   2.0.2             FALSE\n",
      "rlang          0.4.11   1.1.1              TRUE\n",
      "rvest           1.0.0   1.0.3             FALSE\n",
      "stringr         1.4.0   1.5.0             FALSE\n",
      "tibble          3.1.1   3.2.1              TRUE\n",
      "tidyr           1.1.3   1.3.0              TRUE\n",
      "xml2            1.3.2   1.3.5              TRUE\n",
      "tidyverse       1.3.1   2.0.0             FALSE\n",
      "\n",
      "  Binaries will be installed\n",
      "package 'processx' successfully unpacked and MD5 sums checked\n",
      "package 'xfun' successfully unpacked and MD5 sums checked\n",
      "package 'htmltools' successfully unpacked and MD5 sums checked\n"
     ]
    },
    {
     "name": "stderr",
     "output_type": "stream",
     "text": [
      "Warning message:\n",
      "\"cannot remove prior installation of package 'htmltools'\"Warning message in file.copy(savedcopy, lib, recursive = TRUE):\n",
      "\"problem copying C:\\Users\\micha\\anaconda3\\Lib\\R\\library\\00LOCK\\htmltools\\libs\\x64\\htmltools.dll to C:\\Users\\micha\\anaconda3\\Lib\\R\\library\\htmltools\\libs\\x64\\htmltools.dll: Permission denied\"Warning message:\n",
      "\"restored 'htmltools'\""
     ]
    },
    {
     "name": "stdout",
     "output_type": "stream",
     "text": [
      "package 'vctrs' successfully unpacked and MD5 sums checked\n"
     ]
    },
    {
     "name": "stderr",
     "output_type": "stream",
     "text": [
      "Warning message:\n",
      "\"cannot remove prior installation of package 'vctrs'\"Warning message in file.copy(savedcopy, lib, recursive = TRUE):\n",
      "\"problem copying C:\\Users\\micha\\anaconda3\\Lib\\R\\library\\00LOCK\\vctrs\\libs\\x64\\vctrs.dll to C:\\Users\\micha\\anaconda3\\Lib\\R\\library\\vctrs\\libs\\x64\\vctrs.dll: Permission denied\"Warning message:\n",
      "\"restored 'vctrs'\""
     ]
    },
    {
     "name": "stdout",
     "output_type": "stream",
     "text": [
      "package 'timechange' successfully unpacked and MD5 sums checked\n",
      "package 'systemfonts' successfully unpacked and MD5 sums checked\n",
      "package 'vroom' successfully unpacked and MD5 sums checked\n",
      "package 'glue' successfully unpacked and MD5 sums checked\n"
     ]
    },
    {
     "name": "stderr",
     "output_type": "stream",
     "text": [
      "Warning message:\n",
      "\"cannot remove prior installation of package 'glue'\"Warning message in file.copy(savedcopy, lib, recursive = TRUE):\n",
      "\"problem copying C:\\Users\\micha\\anaconda3\\Lib\\R\\library\\00LOCK\\glue\\libs\\x64\\glue.dll to C:\\Users\\micha\\anaconda3\\Lib\\R\\library\\glue\\libs\\x64\\glue.dll: Permission denied\"Warning message:\n",
      "\"restored 'glue'\""
     ]
    },
    {
     "name": "stdout",
     "output_type": "stream",
     "text": [
      "package 'cli' successfully unpacked and MD5 sums checked\n",
      "package 'dplyr' successfully unpacked and MD5 sums checked\n",
      "package 'haven' successfully unpacked and MD5 sums checked\n",
      "package 'jsonlite' successfully unpacked and MD5 sums checked\n"
     ]
    },
    {
     "name": "stderr",
     "output_type": "stream",
     "text": [
      "Warning message:\n",
      "\"cannot remove prior installation of package 'jsonlite'\"Warning message in file.copy(savedcopy, lib, recursive = TRUE):\n",
      "\"problem copying C:\\Users\\micha\\anaconda3\\Lib\\R\\library\\00LOCK\\jsonlite\\libs\\x64\\jsonlite.dll to C:\\Users\\micha\\anaconda3\\Lib\\R\\library\\jsonlite\\libs\\x64\\jsonlite.dll: Permission denied\"Warning message:\n",
      "\"restored 'jsonlite'\""
     ]
    },
    {
     "name": "stdout",
     "output_type": "stream",
     "text": [
      "package 'lubridate' successfully unpacked and MD5 sums checked\n",
      "package 'magrittr' successfully unpacked and MD5 sums checked\n",
      "package 'purrr' successfully unpacked and MD5 sums checked\n",
      "package 'ragg' successfully unpacked and MD5 sums checked\n",
      "package 'readr' successfully unpacked and MD5 sums checked\n",
      "package 'readxl' successfully unpacked and MD5 sums checked\n",
      "package 'rlang' successfully unpacked and MD5 sums checked\n"
     ]
    },
    {
     "name": "stderr",
     "output_type": "stream",
     "text": [
      "Warning message:\n",
      "\"cannot remove prior installation of package 'rlang'\"Warning message in file.copy(savedcopy, lib, recursive = TRUE):\n",
      "\"problem copying C:\\Users\\micha\\anaconda3\\Lib\\R\\library\\00LOCK\\rlang\\libs\\x64\\rlang.dll to C:\\Users\\micha\\anaconda3\\Lib\\R\\library\\rlang\\libs\\x64\\rlang.dll: Permission denied\"Warning message:\n",
      "\"restored 'rlang'\""
     ]
    },
    {
     "name": "stdout",
     "output_type": "stream",
     "text": [
      "package 'tibble' successfully unpacked and MD5 sums checked\n",
      "package 'tidyr' successfully unpacked and MD5 sums checked\n",
      "package 'xml2' successfully unpacked and MD5 sums checked\n",
      "\n",
      "The downloaded binary packages are in\n",
      "\tC:\\Users\\micha\\AppData\\Local\\Temp\\RtmpArhAHh\\downloaded_packages\n"
     ]
    },
    {
     "name": "stderr",
     "output_type": "stream",
     "text": [
      "installing the source packages 'bslib', 'fontawesome', 'tinytex', 'lifecycle', 'tidyselect', 'gtable', 'scales', 'gargle', 'callr', 'knitr', 'rmarkdown', 'broom', 'conflicted', 'dbplyr', 'dtplyr', 'forcats', 'ggplot2', 'googledrive', 'googlesheets4', 'hms', 'modelr', 'pillar', 'reprex', 'rvest', 'stringr', 'tidyverse'\n",
      "\n",
      "Warning message in install.packages(\"tidyverse\", repos = \"http://cran.us.r-project.org\"):\n",
      "\"installation of package 'bslib' had non-zero exit status\"Warning message in install.packages(\"tidyverse\", repos = \"http://cran.us.r-project.org\"):\n",
      "\"installation of package 'fontawesome' had non-zero exit status\"Warning message in install.packages(\"tidyverse\", repos = \"http://cran.us.r-project.org\"):\n",
      "\"installation of package 'tinytex' had non-zero exit status\"Warning message in install.packages(\"tidyverse\", repos = \"http://cran.us.r-project.org\"):\n",
      "\"installation of package 'lifecycle' had non-zero exit status\"Warning message in install.packages(\"tidyverse\", repos = \"http://cran.us.r-project.org\"):\n",
      "\"installation of package 'callr' had non-zero exit status\"Warning message in install.packages(\"tidyverse\", repos = \"http://cran.us.r-project.org\"):\n",
      "\"installation of package 'knitr' had non-zero exit status\"Warning message in install.packages(\"tidyverse\", repos = \"http://cran.us.r-project.org\"):\n",
      "\"installation of package 'conflicted' had non-zero exit status\"Warning message in install.packages(\"tidyverse\", repos = \"http://cran.us.r-project.org\"):\n",
      "\"installation of package 'tidyselect' had non-zero exit status\"Warning message in install.packages(\"tidyverse\", repos = \"http://cran.us.r-project.org\"):\n",
      "\"installation of package 'gtable' had non-zero exit status\"Warning message in install.packages(\"tidyverse\", repos = \"http://cran.us.r-project.org\"):\n",
      "\"installation of package 'scales' had non-zero exit status\"Warning message in install.packages(\"tidyverse\", repos = \"http://cran.us.r-project.org\"):\n",
      "\"installation of package 'gargle' had non-zero exit status\"Warning message in install.packages(\"tidyverse\", repos = \"http://cran.us.r-project.org\"):\n",
      "\"installation of package 'forcats' had non-zero exit status\"Warning message in install.packages(\"tidyverse\", repos = \"http://cran.us.r-project.org\"):\n",
      "\"installation of package 'hms' had non-zero exit status\"Warning message in install.packages(\"tidyverse\", repos = \"http://cran.us.r-project.org\"):\n",
      "\"installation of package 'pillar' had non-zero exit status\"Warning message in install.packages(\"tidyverse\", repos = \"http://cran.us.r-project.org\"):\n",
      "\"installation of package 'rvest' had non-zero exit status\"Warning message in install.packages(\"tidyverse\", repos = \"http://cran.us.r-project.org\"):\n",
      "\"installation of package 'stringr' had non-zero exit status\"Warning message in install.packages(\"tidyverse\", repos = \"http://cran.us.r-project.org\"):\n",
      "\"installation of package 'rmarkdown' had non-zero exit status\"Warning message in install.packages(\"tidyverse\", repos = \"http://cran.us.r-project.org\"):\n",
      "\"installation of package 'broom' had non-zero exit status\"Warning message in install.packages(\"tidyverse\", repos = \"http://cran.us.r-project.org\"):\n",
      "\"installation of package 'dbplyr' had non-zero exit status\"Warning message in install.packages(\"tidyverse\", repos = \"http://cran.us.r-project.org\"):\n",
      "\"installation of package 'dtplyr' had non-zero exit status\"Warning message in install.packages(\"tidyverse\", repos = \"http://cran.us.r-project.org\"):\n",
      "\"installation of package 'ggplot2' had non-zero exit status\"Warning message in install.packages(\"tidyverse\", repos = \"http://cran.us.r-project.org\"):\n",
      "\"installation of package 'googledrive' had non-zero exit status\"Warning message in install.packages(\"tidyverse\", repos = \"http://cran.us.r-project.org\"):\n",
      "\"installation of package 'googlesheets4' had non-zero exit status\"Warning message in install.packages(\"tidyverse\", repos = \"http://cran.us.r-project.org\"):\n",
      "\"installation of package 'modelr' had non-zero exit status\"Warning message in install.packages(\"tidyverse\", repos = \"http://cran.us.r-project.org\"):\n",
      "\"installation of package 'reprex' had non-zero exit status\"Warning message in install.packages(\"tidyverse\", repos = \"http://cran.us.r-project.org\"):\n",
      "\"installation of package 'tidyverse' had non-zero exit status\"Warning message:\n",
      "\"dependency 'MASS' is not available\"also installing the dependencies 'bslib', 'stringr', 'tinytex', 'rmarkdown', 'commonmark', 'fs', 'htmlwidgets', 'magrittr', 'markdown', 'reactable', 'sass', 'tibble', 'tidyselect', 'xml2', 'lifecycle', 'pillar', 'vctrs', 'gtable', 'xfun', 'gt', 'dplyr', 'fontawesome', 'ggplot2', 'glue', 'htmltools', 'paletteer', 'rlang', 'scales', 'knitr', 'cli'\n",
      "\n"
     ]
    },
    {
     "name": "stdout",
     "output_type": "stream",
     "text": [
      "\n",
      "  There are binary versions available but the source versions are later:\n",
      "             binary  source needs_compilation\n",
      "bslib         0.2.4   0.5.1             FALSE\n",
      "stringr       1.4.0   1.5.0             FALSE\n",
      "tinytex        0.31    0.48             FALSE\n",
      "rmarkdown       2.8    2.25             FALSE\n",
      "commonmark      1.7   1.9.0              TRUE\n",
      "fs            1.5.0   1.6.3              TRUE\n",
      "htmlwidgets   1.5.3   1.6.2             FALSE\n",
      "magrittr      2.0.1   2.0.3              TRUE\n",
      "markdown        1.1    1.11              TRUE\n",
      "reactable     0.2.3   0.4.4             FALSE\n",
      "sass          0.4.0   0.4.7              TRUE\n",
      "tibble        3.1.1   3.2.1              TRUE\n",
      "tidyselect    1.1.1   1.2.0             FALSE\n",
      "xml2          1.3.2   1.3.5              TRUE\n",
      "lifecycle     1.0.0   1.0.3             FALSE\n",
      "pillar        1.6.0   1.9.0             FALSE\n",
      "vctrs         0.3.8   0.6.4              TRUE\n",
      "gtable        0.3.0   0.3.4             FALSE\n",
      "xfun           0.22    0.40              TRUE\n",
      "gt            0.3.0  0.10.0             FALSE\n",
      "dplyr         1.0.6   1.1.3              TRUE\n",
      "fontawesome   0.2.1   0.5.2             FALSE\n",
      "ggplot2       3.3.3   3.4.4             FALSE\n",
      "glue          1.4.2   1.6.2              TRUE\n",
      "htmltools   0.5.1.1 0.5.6.1              TRUE\n",
      "paletteer     1.3.0   1.5.0             FALSE\n",
      "rlang        0.4.11   1.1.1              TRUE\n",
      "scales        1.1.1   1.2.1             FALSE\n",
      "knitr          1.33    1.44             FALSE\n",
      "cli           2.5.0   3.6.1              TRUE\n",
      "\n",
      "  Binaries will be installed\n",
      "package 'commonmark' successfully unpacked and MD5 sums checked\n",
      "package 'fs' successfully unpacked and MD5 sums checked\n",
      "package 'magrittr' successfully unpacked and MD5 sums checked\n",
      "package 'markdown' successfully unpacked and MD5 sums checked\n",
      "package 'sass' successfully unpacked and MD5 sums checked\n",
      "package 'tibble' successfully unpacked and MD5 sums checked\n",
      "package 'xml2' successfully unpacked and MD5 sums checked\n",
      "package 'vctrs' successfully unpacked and MD5 sums checked\n"
     ]
    },
    {
     "name": "stderr",
     "output_type": "stream",
     "text": [
      "Warning message:\n",
      "\"cannot remove prior installation of package 'vctrs'\"Warning message in file.copy(savedcopy, lib, recursive = TRUE):\n",
      "\"problem copying C:\\Users\\micha\\anaconda3\\Lib\\R\\library\\00LOCK\\vctrs\\libs\\x64\\vctrs.dll to C:\\Users\\micha\\anaconda3\\Lib\\R\\library\\vctrs\\libs\\x64\\vctrs.dll: Permission denied\"Warning message:\n",
      "\"restored 'vctrs'\""
     ]
    },
    {
     "name": "stdout",
     "output_type": "stream",
     "text": [
      "package 'xfun' successfully unpacked and MD5 sums checked\n",
      "package 'dplyr' successfully unpacked and MD5 sums checked\n",
      "package 'glue' successfully unpacked and MD5 sums checked\n"
     ]
    },
    {
     "name": "stderr",
     "output_type": "stream",
     "text": [
      "Warning message:\n",
      "\"cannot remove prior installation of package 'glue'\"Warning message in file.copy(savedcopy, lib, recursive = TRUE):\n",
      "\"problem copying C:\\Users\\micha\\anaconda3\\Lib\\R\\library\\00LOCK\\glue\\libs\\x64\\glue.dll to C:\\Users\\micha\\anaconda3\\Lib\\R\\library\\glue\\libs\\x64\\glue.dll: Permission denied\"Warning message:\n",
      "\"restored 'glue'\""
     ]
    },
    {
     "name": "stdout",
     "output_type": "stream",
     "text": [
      "package 'htmltools' successfully unpacked and MD5 sums checked\n"
     ]
    },
    {
     "name": "stderr",
     "output_type": "stream",
     "text": [
      "Warning message:\n",
      "\"cannot remove prior installation of package 'htmltools'\"Warning message in file.copy(savedcopy, lib, recursive = TRUE):\n",
      "\"problem copying C:\\Users\\micha\\anaconda3\\Lib\\R\\library\\00LOCK\\htmltools\\libs\\x64\\htmltools.dll to C:\\Users\\micha\\anaconda3\\Lib\\R\\library\\htmltools\\libs\\x64\\htmltools.dll: Permission denied\"Warning message:\n",
      "\"restored 'htmltools'\""
     ]
    },
    {
     "name": "stdout",
     "output_type": "stream",
     "text": [
      "package 'rlang' successfully unpacked and MD5 sums checked\n"
     ]
    },
    {
     "name": "stderr",
     "output_type": "stream",
     "text": [
      "Warning message:\n",
      "\"cannot remove prior installation of package 'rlang'\"Warning message in file.copy(savedcopy, lib, recursive = TRUE):\n",
      "\"problem copying C:\\Users\\micha\\anaconda3\\Lib\\R\\library\\00LOCK\\rlang\\libs\\x64\\rlang.dll to C:\\Users\\micha\\anaconda3\\Lib\\R\\library\\rlang\\libs\\x64\\rlang.dll: Permission denied\"Warning message:\n",
      "\"restored 'rlang'\""
     ]
    },
    {
     "name": "stdout",
     "output_type": "stream",
     "text": [
      "package 'cli' successfully unpacked and MD5 sums checked\n",
      "\n",
      "The downloaded binary packages are in\n",
      "\tC:\\Users\\micha\\AppData\\Local\\Temp\\RtmpArhAHh\\downloaded_packages\n"
     ]
    },
    {
     "name": "stderr",
     "output_type": "stream",
     "text": [
      "installing the source packages 'bslib', 'stringr', 'tinytex', 'rmarkdown', 'htmlwidgets', 'reactable', 'tidyselect', 'lifecycle', 'pillar', 'gtable', 'gt', 'fontawesome', 'ggplot2', 'paletteer', 'scales', 'knitr', 'gtExtras'\n",
      "\n",
      "Warning message in install.packages(\"gtExtras\", repos = \"http://cran.us.r-project.org\"):\n",
      "\"installation of package 'bslib' had non-zero exit status\"Warning message in install.packages(\"gtExtras\", repos = \"http://cran.us.r-project.org\"):\n",
      "\"installation of package 'tinytex' had non-zero exit status\"Warning message in install.packages(\"gtExtras\", repos = \"http://cran.us.r-project.org\"):\n",
      "\"installation of package 'lifecycle' had non-zero exit status\"Warning message in install.packages(\"gtExtras\", repos = \"http://cran.us.r-project.org\"):\n",
      "\"installation of package 'fontawesome' had non-zero exit status\"Warning message in install.packages(\"gtExtras\", repos = \"http://cran.us.r-project.org\"):\n",
      "\"installation of package 'paletteer' had non-zero exit status\"Warning message in install.packages(\"gtExtras\", repos = \"http://cran.us.r-project.org\"):\n",
      "\"installation of package 'knitr' had non-zero exit status\"Warning message in install.packages(\"gtExtras\", repos = \"http://cran.us.r-project.org\"):\n",
      "\"installation of package 'stringr' had non-zero exit status\"Warning message in install.packages(\"gtExtras\", repos = \"http://cran.us.r-project.org\"):\n",
      "\"installation of package 'tidyselect' had non-zero exit status\"Warning message in install.packages(\"gtExtras\", repos = \"http://cran.us.r-project.org\"):\n",
      "\"installation of package 'pillar' had non-zero exit status\"Warning message in install.packages(\"gtExtras\", repos = \"http://cran.us.r-project.org\"):\n",
      "\"installation of package 'gtable' had non-zero exit status\"Warning message in install.packages(\"gtExtras\", repos = \"http://cran.us.r-project.org\"):\n",
      "\"installation of package 'scales' had non-zero exit status\"Warning message in install.packages(\"gtExtras\", repos = \"http://cran.us.r-project.org\"):\n",
      "\"installation of package 'rmarkdown' had non-zero exit status\"Warning message in install.packages(\"gtExtras\", repos = \"http://cran.us.r-project.org\"):\n",
      "\"installation of package 'ggplot2' had non-zero exit status\"Warning message in install.packages(\"gtExtras\", repos = \"http://cran.us.r-project.org\"):\n",
      "\"installation of package 'htmlwidgets' had non-zero exit status\"Warning message in install.packages(\"gtExtras\", repos = \"http://cran.us.r-project.org\"):\n",
      "\"installation of package 'reactable' had non-zero exit status\"Warning message in install.packages(\"gtExtras\", repos = \"http://cran.us.r-project.org\"):\n",
      "\"installation of package 'gt' had non-zero exit status\"Warning message in install.packages(\"gtExtras\", repos = \"http://cran.us.r-project.org\"):\n",
      "\"installation of package 'gtExtras' had non-zero exit status\"Warning message:\n",
      "\"package 'dplyr' was built under R version 3.6.3\""
     ]
    },
    {
     "ename": "ERROR",
     "evalue": "Error: package or namespace load failed for 'dplyr' in loadNamespace(j <- i[[1L]], c(lib.loc, .libPaths()), versionCheck = vI[[j]]):\n there is no package called 'lifecycle'\n",
     "output_type": "error",
     "traceback": [
      "Error: package or namespace load failed for 'dplyr' in loadNamespace(j <- i[[1L]], c(lib.loc, .libPaths()), versionCheck = vI[[j]]):\n there is no package called 'lifecycle'\nTraceback:\n",
      "1. library(dplyr)",
      "2. tryCatch({\n .     attr(package, \"LibPath\") <- which.lib.loc\n .     ns <- loadNamespace(package, lib.loc)\n .     env <- attachNamespace(ns, pos = pos, deps, exclude, include.only)\n . }, error = function(e) {\n .     P <- if (!is.null(cc <- conditionCall(e))) \n .         paste(\" in\", deparse(cc)[1L])\n .     else \"\"\n .     msg <- gettextf(\"package or namespace load failed for %s%s:\\n %s\", \n .         sQuote(package), P, conditionMessage(e))\n .     if (logical.return) \n .         message(paste(\"Error:\", msg), domain = NA)\n .     else stop(msg, call. = FALSE, domain = NA)\n . })",
      "3. tryCatchList(expr, classes, parentenv, handlers)",
      "4. tryCatchOne(expr, names, parentenv, handlers[[1L]])",
      "5. value[[3L]](cond)",
      "6. stop(msg, call. = FALSE, domain = NA)"
     ]
    }
   ],
   "source": [
    "install.packages(\"factoextra\", repos = \"http://cran.us.r-project.org\")\n",
    "install.packages(\"car\", repos = \"http://cran.us.r-project.org\")\n",
    "install.packages(\"tidyverse\", repos = \"http://cran.us.r-project.org\")\n",
    "install.packages(\"gtExtras\", repos = \"http://cran.us.r-project.org\" )\n",
    "\n",
    "library(dplyr)\n",
    "library(readr)\n",
    "library(tidyr)\n",
    "library(ggplot2)\n",
    "library(factoextra)\n",
    "library(reshape2)\n",
    "library(tidyverse)\n",
    "library(gt)\n",
    "library(gtExtras)\n",
    "\n",
    "# setting up the data\n",
    "\n",
    "per_36_raw <- read_csv(\"Sheet 4-Per-36.csv\")\n",
    "shooting_raw <- read_csv(\"Sheet 5-Shooting.csv\")\n",
    "advanced_raw <- read_csv(\"Sheet 3-Advanced.csv\")\n",
    "\n",
    "per_36 <- per_36_raw %>%\n",
    "  distinct(Player, .keep_all = TRUE) %>%\n",
    "  filter(G >= 25 & MP >= 12)\n",
    "\n",
    "shooting <- shooting_raw %>%\n",
    "  distinct(Player, .keep_all = TRUE) %>%\n",
    "  filter(G >= 25 & MP >= 12) %>%\n",
    "  mutate(layup_pct = zero_three_fga + three_ten_fga, midrange_pct = ten_sixteen_fga + sixteen_three_fga)\n",
    "\n",
    "advanced <- advanced_raw %>%\n",
    "  distinct(Player, .keep_all = TRUE)\n",
    "\n",
    "# joining multiple tables and renaming column names\n",
    "\n",
    "join_1 <- left_join(per_36, shooting, by = \"Player\")\n",
    "final <- left_join(join_1, advanced, by = \"Player\")\n",
    "\n",
    "# There is a feature called three_assisted, which denotes the percentage of threes made that were assisted. Some players,\n",
    "# which are all players who play at the Center position in our case, have never taken a three in the season, which results in\n",
    "# the NA values in the three_assisted column. When we take a look at the distribution of the percentage of threes made that were\n",
    "# assisted across Centers, it is very right-skewed, which means most of their threes were assisted. \n",
    "\n",
    "center <- shooting[shooting$Pos == \"C\",]\n",
    "center <- center[!(is.na(center$three_pointer_assisted)), ]\n",
    "center_assisted_three <- median(center$three_pointer_assisted)\n",
    "\n",
    "# Replacing NA values with the median, which is 1.\n",
    "\n",
    "final$three_pointer_assisted <- replace(final$three_pointer_assisted, is.na(final$three_pointer_assisted), 1)\n",
    "\n",
    "# Selecting the features and put it in dataset\n",
    "\n",
    "player_stats <- final %>%\n",
    "  select(name = Player, position = Pos.x, per = PER, tsp = TSP,ftr = FTr, usgr = USGr,\n",
    "         corner_3pa_r = corner_3PA_r, three_accuracy = three_accuracy, \n",
    "         points = PTS, layup_pct = layup_pct, assists = AST, rebounds = TRB, steals = STL, blocks = BLK,\n",
    "         two_assisted = two_pointer_assisted, three_assisted = three_pointer_assisted, \n",
    "         midrange_pct = midrange_pct, threepointer_pct = three_pointer_fga\n",
    "         ) %>%\n",
    "  mutate(points_scaled = sqrt(points))"
   ]
  },
  {
   "cell_type": "markdown",
   "id": "f79b15d9",
   "metadata": {},
   "source": [
    "## Correlation Plot\n",
    "\n",
    "In the correlation heatmap, we see that % of field goals made close to the rim is negatively correlated with % of field goals made from the three-point line. This should be self-explanatory because if a person scores more in the paint, their numbers outside the paint will obviously be relatively lower. We are going to get rid of % of field goals made close to the rim to reduce multicollinearity. Besides the relationship between the two variables mentioned, all other variables do not have significant correlations with each other, which reduces problems of interpretibility and redundancy."
   ]
  },
  {
   "cell_type": "code",
   "execution_count": 11,
   "id": "fb7bd1e8",
   "metadata": {},
   "outputs": [
    {
     "ename": "ERROR",
     "evalue": "Error in scale(player_stats[11:19]): object 'player_stats' not found\n",
     "output_type": "error",
     "traceback": [
      "Error in scale(player_stats[11:19]): object 'player_stats' not found\nTraceback:\n",
      "1. scale(player_stats[11:19])"
     ]
    }
   ],
   "source": [
    "# scaling the features\n",
    "player_stats_scaled <- scale(player_stats[11:19])\n",
    "\n",
    "# Making a correlation heatmap\n",
    "\n",
    "cormap <- player_stats[,10:19]\n",
    "colnames(cormap) <- c(\"% Layups\", \"Assists\", \"Rebounds\", \"Steals\", \"blocks\",\n",
    "                      \"% FG(2) Assisted\", \"% FG(3) Assisted\", \"% FG Midrange\",\n",
    "                      \"% FGA(3)\", \"Points\")\n",
    "\n",
    "cormat <- round(cor(cormap),2)\n",
    "melted_cormat <- melt(cormat)\n",
    "\n",
    "get_upper_tri <- function(cormat){\n",
    "    cormat[lower.tri(cormat)]<- NA\n",
    "    return(cormat)\n",
    "}\n",
    "\n",
    "upper_tri <- get_upper_tri(cormat)\n",
    "\n",
    "melted_cormat <- melt(upper_tri, na.rm = TRUE)\n",
    "\n",
    "ggplot(data = melted_cormat, aes(Var2, Var1, fill = value))+\n",
    " geom_tile(color = \"white\")+\n",
    " scale_fill_gradient2(low = \"orange\", high = \"forestgreen\", mid = \"white\",\n",
    "   midpoint = 0, limit = c(-1,1), space = \"Lab\",\n",
    "   name=\"Pearson\\nCorrelation\") +\n",
    "  theme_minimal()+\n",
    " theme(axis.text.x = element_text(angle = 45, vjust = 1,\n",
    "    size = 12, hjust = 1))+\n",
    " coord_fixed() + ggtitle(\"Correlation Heatmap\")"
   ]
  },
  {
   "cell_type": "markdown",
   "id": "79206e81",
   "metadata": {},
   "source": [
    "\n",
    "## Choosing Number of Clusters\n",
    "\n",
    "To determine the right number of clusters, we initially applied the elbow method, a widely used technique to identify the point where the within-cluster sum of squares (WCSS) starts to level off. The number on the “elbow” appears to be 3. However, when we used that number for K-means, the results were unsatisfactory, with players with drastically different playstyles within the same cluster. As a response, we experimented with multiple cluster counts, and using domain knowledge, we decided on 8. Our goal was to strike a balance between creating granular clusters that capture nuanced player variations and avoiding over-segmentation that might lead to less interpretable results.\n"
   ]
  },
  {
   "cell_type": "code",
   "execution_count": 17,
   "id": "7d21034c",
   "metadata": {},
   "outputs": [
    {
     "ename": "ERROR",
     "evalue": "Error in kmeans(player_stats_scaled, centers = i, nstart = 20): object 'player_stats_scaled' not found\n",
     "output_type": "error",
     "traceback": [
      "Error in kmeans(player_stats_scaled, centers = i, nstart = 20): object 'player_stats_scaled' not found\nTraceback:\n",
      "1. kmeans(player_stats_scaled, centers = i, nstart = 20)",
      "2. as.matrix(x)"
     ]
    }
   ],
   "source": [
    "# Decide how many clusters to look at\n",
    "n <- 10\n",
    "\n",
    "# Initialize total within sum of squares error: wss\n",
    "wss <- numeric(n)\n",
    "\n",
    "set.seed(123)\n",
    "\n",
    "# Look over 1 to n possible clusters\n",
    "for (i in 1:n) {\n",
    "  # Fit the model: km.out\n",
    "  km.out <- kmeans(player_stats_scaled, centers = i, nstart = 20)\n",
    "  # Save the within cluster sum of squares\n",
    "  wss[i] <- km.out$tot.withinss\n",
    "}\n",
    "\n",
    "# Produce a scree plot\n",
    "wss_df <- tibble(clusters = 1:n, wss = wss)\n",
    " \n",
    "scree_plot <- ggplot(wss_df, aes(x = clusters, y = wss, group = 1)) +\n",
    "    geom_point(size = 4)+\n",
    "    geom_line() +\n",
    "    scale_x_continuous(breaks = c(2, 4, 6, 8, 10, 12)) +\n",
    "    xlab('Number of clusters') + ggtitle(\"Elbow Plot\")\n",
    "scree_plot\n"
   ]
  },
  {
   "cell_type": "markdown",
   "id": "8cce95cd",
   "metadata": {},
   "source": [
    "## Results"
   ]
  },
  {
   "cell_type": "code",
   "execution_count": 18,
   "id": "16eca1af",
   "metadata": {},
   "outputs": [
    {
     "ename": "ERROR",
     "evalue": "Error in as.matrix(x): object 'player_stats_scaled' not found\n",
     "output_type": "error",
     "traceback": [
      "Error in as.matrix(x): object 'player_stats_scaled' not found\nTraceback:\n",
      "1. kmeans(player_stats_scaled, centers = 7, nstart = 100)",
      "2. as.matrix(x)"
     ]
    }
   ],
   "source": [
    "km.out <- kmeans(player_stats_scaled, centers = 7, nstart = 100)\n",
    "\n",
    "player_stats$type <- km.out$cluster\n",
    "\n",
    "player_types <- player_stats %>%\n",
    "  mutate(pa_ratio = points/assists) %>%\n",
    "  select(name = name, type = type, position = position, points, assists, pa_ratio, rebounds, steals, blocks,\n",
    "         two_assisted, three_assisted, layup_pct, midrange_pct, threepointer_pct, per, tsp, usgr, ftr, three_accuracy,\n",
    "         corner_3pa_r)\n",
    "\n",
    "player_types$type <- as.character(player_types$type)\n",
    "\n",
    "mean_data <- player_types %>%\n",
    "  group_by(type) %>%\n",
    "  summarize(\n",
    "    mean_points = mean(points),\n",
    "    mean_assists = mean(assists),\n",
    "    mean_pa_ratio = mean(pa_ratio),\n",
    "    mean_rebounds = mean(rebounds),\n",
    "    mean_steals = mean(steals),\n",
    "    mean_blocks = mean(blocks),\n",
    "    mean_two_assisted = mean(two_assisted),\n",
    "    mean_three_assisted = mean(three_assisted),\n",
    "    mean_layup_pct = mean(layup_pct),\n",
    "    mean_midrange_pct = mean(midrange_pct),\n",
    "    mean_three_pct = mean(threepointer_pct),\n",
    "    mean_three_accuracy = mean(three_accuracy),\n",
    "    mean_per = mean(per),\n",
    "    mean_tsp = mean(tsp),\n",
    "    mean_usgr = mean(usgr),\n",
    "    mean_ftr = mean(ftr),\n",
    "    mean_corner_3pa_r = mean(corner_3pa_r)\n",
    "  )\n",
    "\n",
    "## results and averages across types\n",
    "table1 <- mean_data %>%\n",
    "  select(type, mean_points, mean_assists, mean_rebounds, mean_steals, mean_blocks, \n",
    "         mean_pa_ratio, mean_two_assisted, mean_three_pct, mean_usgr)\n",
    "\n",
    "table1 %>%\n",
    "  gt() %>%\n",
    "  gt_theme_538() %>%\n",
    "  tab_header(title = \"Average Stats Across Player Types Per 36 Min\") %>%\n",
    "  fmt_number(decimals = 2) %>%\n",
    "   cols_label(\n",
    "    type = \"Type\",\n",
    "    mean_points = \"Points\",\n",
    "    mean_assists = \"Assists\",\n",
    "    mean_rebounds = \"Rebounds\",\n",
    "    mean_steals = \"Steals\",\n",
    "    mean_blocks = \"Blocks\",\n",
    "    mean_pa_ratio = \"PA Ratio\",\n",
    "    mean_two_assisted = \"% FG (2) Assisted\",\n",
    "    mean_three_pct = \"% FGA (3)\",\n",
    "    mean_usgr = \"Usage Rate\"\n",
    "  )"
   ]
  },
  {
   "cell_type": "code",
   "execution_count": 19,
   "id": "27e21cdd",
   "metadata": {},
   "outputs": [
    {
     "ename": "ERROR",
     "evalue": "Error in mean_data %>% pivot_longer(cols = c(\"mean_points\", \"mean_assists\", : could not find function \"%>%\"\n",
     "output_type": "error",
     "traceback": [
      "Error in mean_data %>% pivot_longer(cols = c(\"mean_points\", \"mean_assists\", : could not find function \"%>%\"\nTraceback:\n"
     ]
    }
   ],
   "source": [
    "# Labelling the Players\n",
    "\n",
    "# creating average stats across types\n",
    "\n",
    "main_avg <- mean_data %>%\n",
    "  pivot_longer(cols=c('mean_points', 'mean_assists', 'mean_rebounds', 'mean_pa_ratio'),\n",
    "               names_to = 'average')\n",
    "\n",
    "main_avg$average <- factor(main_avg$average, levels = unique(main_avg$average))\n",
    "main_avg$type <- as.integer(main_avg$type)\n",
    "\n",
    "\n",
    "ggplot(main_avg,aes(x = type, y = value, fill = average)) +\n",
    "geom_bar(stat = \"identity\", position = \"dodge\") +\n",
    "  scale_x_continuous(breaks = 1:8) +\n",
    "  scale_fill_discrete(labels=c('Points', 'Assists', 'Rebounds', 'PA Ratio')) +\n",
    "  ggtitle(\"Offensive Averages Across Types\")\n",
    "\n",
    "secondary_avg <- mean_data %>%\n",
    "  pivot_longer(cols=c('mean_steals', 'mean_blocks',\n",
    "                      'mean_three_pct'),\n",
    "               names_to = 'average')\n",
    "\n",
    "secondary_avg$average <- factor(secondary_avg$average, levels = unique(secondary_avg$average))\n",
    "secondary_avg$type <- as.integer(secondary_avg$type)\n",
    "\n",
    "ggplot(secondary_avg, aes(x = type, y = value, fill = average)) +\n",
    "  geom_bar(stat = \"identity\", position = \"dodge\") +\n",
    "  scale_x_continuous(breaks = 1:8) +\n",
    "  scale_fill_discrete(labels=c('Steals', 'Blocks', '% FGA(3)')) +\n",
    "  ggtitle(\"Denfensive Averages Across Types\")\n"
   ]
  },
  {
   "cell_type": "markdown",
   "id": "594b79e8",
   "metadata": {},
   "source": [
    "Player Archetypes:\n",
    "\n",
    "$*$ Note that the stats for all players are adjusted for playing time.\n",
    "\n",
    "1. Elite All-around Players\n",
    "\n",
    "Players in this cluster consists of all-star level caliber players. They possess exceptional abilities in scoring, play-making, and ultimately carrying their team to a win. On average, they score more, have more assists, and have higher usage rates than all other types of players. They also have the lowest $\\%$ of field goals (two-pointers or three-pointers) assisted by teammates\", meaning they have more isolation plays and are able to create their own shots. They are generally the best players on the court.\n",
    "\n",
    "Notable Players: LeBron James, Luka Doncic, Stephen Curry, Kevin Durant, Giannis Antetokounmpo, and Shai-Gilgeous Alexander.\n",
    "\n",
    "2. Distributors\n",
    "\n",
    "Players in this cluster are mostly point guards. They are play-makers, pass-first point guards, or what we used to call traditional point guards. Their primary responsibility is to handle the rock and set up plays for teammates. Scoring is not heir number one priority, but making the right play is. They have the lowest PA Ratio (Points to Assist Ratio). They also have the second lowest \"percentage of field goals assisted\" behind type 1 players.\n",
    "\n",
    "Notable Players: Mike Conley, Tyus Jones, Kyle Lowry, Ricky Rubio, Marcus Smart, and Killian Hayes.\n",
    "\n",
    "3. Versatile Big Man\n",
    "\n",
    "Not only can they grab rebounds, block shots, and dunk on people like traditional big men, they also have the ability to shoot the ball and make plays away from the rim. They are versatile in that, they do not necessarily have to be anchored to the paint; they can shoot mid-range shots and even three-pointers at good efficiency. On average, $23\\%$ of their field goal attempts are three-pointers, much higher than that of a traditional big men, at $9\\%$.\n",
    "\n",
    "Notable Players: Joel Embiid, Karl-Anthony Towns, Lauri Markkanen, Christian Wood, and Kristaps Porzingis\n",
    "\n",
    "* Note that Nikola Jokic should be in this category, but due to his one of a kind scoring and passing abilities, he is grouped in type 1\n",
    "\n",
    "4. Defensive Specialists\n",
    "\n",
    "Players in this cluster are lock-down defenders, usually guards and forwards. They excel in guarding multiple positions, disrupting plays and creating turnovers for the opposite team. They are tenacious players with a lot of hustle and heart. They have the third highest rebounding numbers behind traditional big men and versatile big men. They also have the highest number of steals per 36 min.\n",
    "\n",
    "Notable Players: Jose Alvarado, Og Anunoby, Alex Caruso, Draymond Green, Herbert Jones, and Matisse Thybulle\n",
    "\n",
    "5. High Volume Versatile Scorers\n",
    "\n",
    "This cluster is comprised of players who exhibit exceptional scoring versatility. They are known for their capacity to score both inside and outside, utilizing a wide range of offensive skills, from three-point shooting to driving to the rim. They have the third highest scoring numbers behind Elite All-around Players and Versatile big men.\n",
    "\n",
    "Notable Players: Mikal Bridges, Scottie Barnes, Kyle Kuzma, Tobias Harris, Andrew Wiggins, and Kelly Oubre Jr.\n",
    "\n",
    "6. Sharpshooters\n",
    "\n",
    "Players in this cluster can shoot the lights out. They sleep near the three-point line and play a crucial roles in spreading the defense and opening up opportunities for their teammates. Their sharpshooting skills make them valuable assets on the court, and they play a key role in their team's offensive strategy. 61 percent of their field goal attempts are from beyond the arc, which is the highest out of all player archetypes.\n",
    "\n",
    "Notable Players: Luke Kennard, Duncan Robinson, Keegan Murray, Max Strus, Reggie Bullock, and Kevin Love.\n",
    "\n",
    "7. Traditional Big Men\n",
    "\n",
    "These players were there from the beginning of time. They are characterized by their imposing size, strength, and inside presence. These players excel in the low post, both on offense and defense, where they use their physicality to secure rebounds, protect the rim, and score in the paint. They have the highest rebounding and blocking numbers out of all player types.\n",
    "\n",
    "Notable Players: Rudy Gobert, Andre Drummond, Steven Adams, Jarrett Allen, Mo Bamba, and DeAndre Jordan\n",
    "\n"
   ]
  }
 ],
 "metadata": {
  "kernelspec": {
   "display_name": "R",
   "language": "R",
   "name": "ir"
  },
  "language_info": {
   "codemirror_mode": "r",
   "file_extension": ".r",
   "mimetype": "text/x-r-source",
   "name": "R",
   "pygments_lexer": "r",
   "version": "3.6.1"
  }
 },
 "nbformat": 4,
 "nbformat_minor": 5
}
